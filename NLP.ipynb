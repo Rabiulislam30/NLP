{
  "nbformat": 4,
  "nbformat_minor": 0,
  "metadata": {
    "colab": {
      "provenance": []
    },
    "kernelspec": {
      "name": "python3",
      "display_name": "Python 3"
    },
    "language_info": {
      "name": "python"
    }
  },
  "cells": [
    {
      "cell_type": "code",
      "execution_count": null,
      "metadata": {
        "id": "VTc5XbOTVgjt"
      },
      "outputs": [],
      "source": [
        "import re\n",
        "import nltk"
      ]
    },
    {
      "cell_type": "code",
      "source": [
        "import string"
      ],
      "metadata": {
        "id": "DqbBODf8VrHk"
      },
      "execution_count": null,
      "outputs": []
    },
    {
      "cell_type": "code",
      "source": [
        "def text_low(text):\n",
        "  return text.lower()\n",
        "\n",
        "str_first = 'HI, I AM RABIUL'\n",
        "text_low(str_first)"
      ],
      "metadata": {
        "colab": {
          "base_uri": "https://localhost:8080/",
          "height": 36
        },
        "id": "IwzUh6tnVybE",
        "outputId": "e29de4c9-9dba-4731-cc70-7aae271641da"
      },
      "execution_count": null,
      "outputs": [
        {
          "output_type": "execute_result",
          "data": {
            "text/plain": [
              "'hi, i am rabiul'"
            ],
            "application/vnd.google.colaboratory.intrinsic+json": {
              "type": "string"
            }
          },
          "metadata": {},
          "execution_count": 5
        }
      ]
    },
    {
      "cell_type": "code",
      "source": [
        "def remove(text):\n",
        "  res = re.sub(r'\\d' , '' , text)\n",
        "  return res\n",
        "\n",
        "str_sec = ' There are 3 number'\n",
        "remove(str_sec)"
      ],
      "metadata": {
        "colab": {
          "base_uri": "https://localhost:8080/",
          "height": 36
        },
        "id": "A6BEuLFIWPsU",
        "outputId": "3ddd8b31-c227-4d13-e8ea-fb78a8f249c1"
      },
      "execution_count": null,
      "outputs": [
        {
          "output_type": "execute_result",
          "data": {
            "text/plain": [
              "'There are  number'"
            ],
            "application/vnd.google.colaboratory.intrinsic+json": {
              "type": "string"
            }
          },
          "metadata": {},
          "execution_count": 6
        }
      ]
    },
    {
      "cell_type": "code",
      "source": [
        "def remove(text):\n",
        "  res = re.sub(r'\\s' , '' , text)\n",
        "  return res\n",
        "\n",
        "str_sec = ' There are 3 number'\n",
        "remove(str_sec)"
      ],
      "metadata": {
        "colab": {
          "base_uri": "https://localhost:8080/",
          "height": 36
        },
        "id": "DoNAva2daGXt",
        "outputId": "0dd07014-fd08-4d4a-c1fd-b6916c2e3037"
      },
      "execution_count": null,
      "outputs": [
        {
          "output_type": "execute_result",
          "data": {
            "text/plain": [
              "'Thereare3number'"
            ],
            "application/vnd.google.colaboratory.intrinsic+json": {
              "type": "string"
            }
          },
          "metadata": {},
          "execution_count": 10
        }
      ]
    },
    {
      "cell_type": "code",
      "source": [
        "def remove(text):\n",
        "  res = re.sub(r'\\s' , '' , text)\n",
        "  return res\n",
        "\n",
        "str_sec = ' There are 3 number'\n",
        "remove(str_sec)"
      ],
      "metadata": {
        "colab": {
          "base_uri": "https://localhost:8080/",
          "height": 36
        },
        "id": "YO3a_8X7XHVt",
        "outputId": "24efb1de-8dbf-4fc3-b0d5-39a30a8f23b1"
      },
      "execution_count": null,
      "outputs": [
        {
          "output_type": "execute_result",
          "data": {
            "text/plain": [
              "'Thereare3number'"
            ],
            "application/vnd.google.colaboratory.intrinsic+json": {
              "type": "string"
            }
          },
          "metadata": {},
          "execution_count": 8
        }
      ]
    },
    {
      "cell_type": "code",
      "source": [
        "nltk.download('stopwords')"
      ],
      "metadata": {
        "colab": {
          "base_uri": "https://localhost:8080/"
        },
        "id": "cv8i-v0EdpfV",
        "outputId": "a39c83ca-0a42-4f1f-f661-439d2ea924f4"
      },
      "execution_count": null,
      "outputs": [
        {
          "output_type": "stream",
          "name": "stderr",
          "text": [
            "[nltk_data] Downloading package stopwords to /root/nltk_data...\n",
            "[nltk_data]   Unzipping corpora/stopwords.zip.\n"
          ]
        },
        {
          "output_type": "execute_result",
          "data": {
            "text/plain": [
              "True"
            ]
          },
          "metadata": {},
          "execution_count": 21
        }
      ]
    },
    {
      "cell_type": "code",
      "source": [
        "nltk.download('punkt')"
      ],
      "metadata": {
        "colab": {
          "base_uri": "https://localhost:8080/"
        },
        "id": "Q2S1riLodw0F",
        "outputId": "7257b8ed-4cd0-444f-f43b-b010b936ed2b"
      },
      "execution_count": null,
      "outputs": [
        {
          "output_type": "stream",
          "name": "stderr",
          "text": [
            "[nltk_data] Downloading package punkt to /root/nltk_data...\n",
            "[nltk_data]   Unzipping tokenizers/punkt.zip.\n"
          ]
        },
        {
          "output_type": "execute_result",
          "data": {
            "text/plain": [
              "True"
            ]
          },
          "metadata": {},
          "execution_count": 22
        }
      ]
    },
    {
      "cell_type": "code",
      "source": [
        "from nltk.corpus import stopwords\n",
        "from nltk.tokenize import word_tokenize\n",
        "\n",
        "def Stopwords_learn(text):\n",
        "  stop_words = set(stopwords.words('english'))\n",
        "  word_tokens = word_tokenize(text)\n",
        "  filetered = [word for word in word_tokens if word not in stop_words]\n",
        "  return filetered\n",
        "\n",
        "\n",
        "text_1 = \"Due to less percentage of attendence we can't move quick towards our goal. So be present from the next class otherwise you will miss the advance topic.\"\n",
        "\n",
        "Stopwords_learn(text_1)"
      ],
      "metadata": {
        "colab": {
          "base_uri": "https://localhost:8080/"
        },
        "id": "Db6NhkJya3EV",
        "outputId": "9893e77d-92f1-4a84-ed1b-2ff407d5239c"
      },
      "execution_count": null,
      "outputs": [
        {
          "output_type": "execute_result",
          "data": {
            "text/plain": [
              "['Due',\n",
              " 'less',\n",
              " 'percentage',\n",
              " 'attendence',\n",
              " 'ca',\n",
              " \"n't\",\n",
              " 'move',\n",
              " 'quick',\n",
              " 'towards',\n",
              " 'goal',\n",
              " '.',\n",
              " 'So',\n",
              " 'present',\n",
              " 'next',\n",
              " 'class',\n",
              " 'otherwise',\n",
              " 'miss',\n",
              " 'advance',\n",
              " 'topic',\n",
              " '.']"
            ]
          },
          "metadata": {},
          "execution_count": 33
        }
      ]
    },
    {
      "cell_type": "code",
      "source": [
        "from nltk.stem.porter import PorterStemmer\n",
        "\n",
        "from nltk.tokenize import word_tokenize\n",
        "\n",
        "stemmer = PorterStemmer()\n",
        "\n",
        "def Step_words(text):\n",
        "  word_tokens = word_tokenize(text)\n",
        "  filtered = [stemmer.stem(word) for word in word_tokens]\n",
        "  return filtered\n",
        "\n",
        "\n",
        "text_1 = \"Due to less percentage of attendence we can't move quick towards our goal. So be present from the next class otherwise you will miss the advance topic\"\n",
        "\n",
        "Step_words(text_1)"
      ],
      "metadata": {
        "colab": {
          "base_uri": "https://localhost:8080/"
        },
        "id": "mwhfGMJje1FG",
        "outputId": "e0c2cc5a-09a7-482f-d6d2-3c139f17bf3b"
      },
      "execution_count": null,
      "outputs": [
        {
          "output_type": "execute_result",
          "data": {
            "text/plain": [
              "['due',\n",
              " 'to',\n",
              " 'less',\n",
              " 'percentag',\n",
              " 'of',\n",
              " 'attend',\n",
              " 'we',\n",
              " 'ca',\n",
              " \"n't\",\n",
              " 'move',\n",
              " 'quick',\n",
              " 'toward',\n",
              " 'our',\n",
              " 'goal',\n",
              " '.',\n",
              " 'so',\n",
              " 'be',\n",
              " 'present',\n",
              " 'from',\n",
              " 'the',\n",
              " 'next',\n",
              " 'class',\n",
              " 'otherwis',\n",
              " 'you',\n",
              " 'will',\n",
              " 'miss',\n",
              " 'the',\n",
              " 'advanc',\n",
              " 'topic']"
            ]
          },
          "metadata": {},
          "execution_count": 35
        }
      ]
    },
    {
      "cell_type": "code",
      "source": [
        "nltk.download('wordnet')"
      ],
      "metadata": {
        "colab": {
          "base_uri": "https://localhost:8080/"
        },
        "id": "Y748HnIqiHm3",
        "outputId": "c569aae9-fbaf-4881-b6a9-aa72837f41a9"
      },
      "execution_count": null,
      "outputs": [
        {
          "output_type": "stream",
          "name": "stderr",
          "text": [
            "[nltk_data] Downloading package wordnet to /root/nltk_data...\n"
          ]
        },
        {
          "output_type": "execute_result",
          "data": {
            "text/plain": [
              "True"
            ]
          },
          "metadata": {},
          "execution_count": 36
        }
      ]
    },
    {
      "cell_type": "code",
      "source": [
        "from nltk.stem import WordNetLemmatizer\n",
        "\n",
        "from nltk.tokenize import word_tokenize\n",
        "\n",
        "stemmer = WordNetLemmatizer()\n",
        "\n",
        "def Step_words(text):\n",
        "  word_tokens = word_tokenize(text)\n",
        "  filtered = [stemmer.lemmatize(word) for word in word_tokens]\n",
        "  return filtered\n",
        "\n",
        "\n",
        "text_1 = \"Due to less percentage of attendence we can't move quick towards our goal. So be present from the next class otherwise you will miss the advance topic\"\n",
        "\n",
        "Step_words(text_1)"
      ],
      "metadata": {
        "colab": {
          "base_uri": "https://localhost:8080/"
        },
        "id": "spb81O9tdRO-",
        "outputId": "99e7d2a4-b0d6-486e-f6ce-5218fc2cebc7"
      },
      "execution_count": null,
      "outputs": [
        {
          "output_type": "execute_result",
          "data": {
            "text/plain": [
              "['Due',\n",
              " 'to',\n",
              " 'le',\n",
              " 'percentage',\n",
              " 'of',\n",
              " 'attendence',\n",
              " 'we',\n",
              " 'ca',\n",
              " \"n't\",\n",
              " 'move',\n",
              " 'quick',\n",
              " 'towards',\n",
              " 'our',\n",
              " 'goal',\n",
              " '.',\n",
              " 'So',\n",
              " 'be',\n",
              " 'present',\n",
              " 'from',\n",
              " 'the',\n",
              " 'next',\n",
              " 'class',\n",
              " 'otherwise',\n",
              " 'you',\n",
              " 'will',\n",
              " 'miss',\n",
              " 'the',\n",
              " 'advance',\n",
              " 'topic']"
            ]
          },
          "metadata": {},
          "execution_count": 40
        }
      ]
    },
    {
      "cell_type": "code",
      "source": [],
      "metadata": {
        "id": "Md6KJi6cj0M_"
      },
      "execution_count": null,
      "outputs": []
    }
  ]
}